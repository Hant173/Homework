{
  "nbformat": 4,
  "nbformat_minor": 2,
  "metadata": {
    "kernelspec": {
      "name": "python3",
      "display_name": "Python 3.7.6 64-bit"
    },
    "language_info": {
      "name": "python",
      "version": "3.7.6",
      "mimetype": "text/x-python",
      "codemirror_mode": {
        "name": "ipython",
        "version": 3
      },
      "pygments_lexer": "ipython3",
      "nbconvert_exporter": "python",
      "file_extension": ".py"
    },
    "interpreter": {
      "hash": "04635d289a519a1410467dd0afb0db42f9184808881ca68b2eb5a687a20a5a94"
    },
    "colab": {
      "name": "print_star.ipynb",
      "provenance": [],
      "collapsed_sections": []
    }
  },
  "cells": [
    {
      "cell_type": "code",
      "execution_count": 1,
      "source": [
        "n = input(\"Nhập vào số hàng: \")\r\n",
        "n = int(n)\r\n",
        "\r\n",
        "\r\n",
        "def pypart2(n):\r\n",
        "    t = input(\"Nhập kiểu hiển thị (3 kiểu: 1,2,3): \")\r\n",
        "    t = int(t)\r\n",
        "    if t != 1 and t != 2 and t != 3:\r\n",
        "        print(\"Kiểu hiện thị nhập không đúng. Nhập lại!\")\r\n",
        "        pypart2(n)\r\n",
        "    else:\r\n",
        "        #Kiểu 1\r\n",
        "        if t == 1:\r\n",
        "            print(\"Kiểu 1\")\r\n",
        "            k = 2 * n - 2\r\n",
        "            for i in range(0, n):\r\n",
        "                for j in range(0, k):\r\n",
        "                    print(end=\" \")\r\n",
        "                k = k - 2\r\n",
        "                for j in range(0, i + 1):\r\n",
        "                    print(\"* \", end=\"\")\r\n",
        "                print(\"\\r\")\r\n",
        "\r\n",
        "        #Kiểu 2\r\n",
        "        elif t == 2:\r\n",
        "            print(\"Kiểu 2\")\r\n",
        "            l0 = 2 * n - 1\r\n",
        "            l1 = n - 1\r\n",
        "            k = 2 * l1 - 2\r\n",
        "            for i in range(0, l1):\r\n",
        "                print(end=\"  \")\r\n",
        "                for j in range(0, k):\r\n",
        "                    print(end=\" \")\r\n",
        "                k = k - 2\r\n",
        "                for j in range(0, i + 1):\r\n",
        "                    print(\"* \", end=\"\")\r\n",
        "                print(\"\\r\")\r\n",
        "\r\n",
        "            for i2 in range(0, l0 + 1):\r\n",
        "                print(\"* \", end=\"\")\r\n",
        "            print(\"\\r\")\r\n",
        "\r\n",
        "            k2 = 2 * l1 - 2\r\n",
        "            for i3 in range(0, l1):\r\n",
        "                for j3 in range(0, n):\r\n",
        "                    print(end=\"  \")\r\n",
        "                k2 = k2 - 2\r\n",
        "                for j in range(0, n - (i3 + 1)):\r\n",
        "                    print(\"* \", end=\"\")\r\n",
        "                print(\"\\r\")\r\n",
        "\r\n",
        "        #Kiểu 3\r\n",
        "        else:\r\n",
        "            print(\"Kiểu 3\")\r\n",
        "            l0 = 2 * n - 1\r\n",
        "            l1 = n - 1\r\n",
        "            k = 2 * l1 - 2\r\n",
        "            for i in range(0, l1):\r\n",
        "                k = k - 2\r\n",
        "                j_m = i + 1\r\n",
        "                for j in range(0, j_m):\r\n",
        "                    if j_m >= 3 and 0 < j < (j_m - 1):\r\n",
        "                        print(\"  \", end=\"\")\r\n",
        "                    else:\r\n",
        "                        print(\"* \", end=\"\")\r\n",
        "                print(\"\\r\")\r\n",
        "\r\n",
        "            for i2 in range(0, l0 + 1):\r\n",
        "                print(\"* \", end=\"\")\r\n",
        "            print(\"\\r\")\r\n",
        "\r\n",
        "            k2 = 2 * l1 - 2\r\n",
        "            for i3 in range(0, l1):\r\n",
        "                for j in range(0, n):\r\n",
        "                    print(end=\"  \")\r\n",
        "\r\n",
        "                for j1 in range(0, i3 + 1):\r\n",
        "                    print(end=\"  \")\r\n",
        "\r\n",
        "                k2 = k2 - 2\r\n",
        "                j2_m = n - (i3 + 1)\r\n",
        "                for j2 in range(0, j2_m):\r\n",
        "                    if j2_m >= 3 and 0 < j2 < (j2_m - 1):\r\n",
        "                        print(\"  \", end=\"\")\r\n",
        "                    else:\r\n",
        "                        print(\"* \", end=\"\")\r\n",
        "                print(\"\\r\")\r\n",
        "\r\n",
        "\r\n",
        "#n = 5\r\n",
        "pypart2(3)"
      ],
      "outputs": [
        {
          "output_type": "stream",
          "name": "stdout",
          "text": [
            "Kiểu 3\n",
            "* \n",
            "* * \n",
            "* * * * * * \n",
            "        * * \n",
            "          * \n"
          ]
        }
      ],
      "metadata": {
        "pycharm": {
          "name": "#%%\n"
        },
        "colab": {
          "base_uri": "https://localhost:8080/"
        },
        "id": "57zWpvV9p3oM",
        "outputId": "1fcdf950-7143-4b79-aad7-b5a45f802b2c"
      }
    }
  ]
}